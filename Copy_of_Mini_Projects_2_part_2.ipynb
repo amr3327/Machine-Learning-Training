{
  "nbformat": 4,
  "nbformat_minor": 0,
  "metadata": {
    "colab": {
      "name": "Copy of Mini_Projects_2/ part 2.ipynb",
      "provenance": [],
      "toc_visible": true,
      "include_colab_link": true
    },
    "kernelspec": {
      "name": "python3",
      "display_name": "Python 3"
    }
  },
  "cells": [
    {
      "cell_type": "markdown",
      "metadata": {
        "id": "view-in-github",
        "colab_type": "text"
      },
      "source": [
        "<a href=\"https://colab.research.google.com/github/amr3327/Machine-Learning-Training/blob/main/Copy_of_Mini_Projects_2_part_2.ipynb\" target=\"_parent\"><img src=\"https://colab.research.google.com/assets/colab-badge.svg\" alt=\"Open In Colab\"/></a>"
      ]
    },
    {
      "cell_type": "markdown",
      "metadata": {
        "id": "c2sSEq3uSurn"
      },
      "source": [
        "# Files and Exceptions"
      ]
    },
    {
      "cell_type": "markdown",
      "metadata": {
        "id": "qw2XyRs-TWIF"
      },
      "source": [
        "**8. Sum of Numbers** <br>\n",
        "Assume that a file containing a series of integers is named numbers.txt and exists on the computer’s disk. Write a program that reads all of the numbers stored in the file and calculates their total.\n"
      ]
    },
    {
      "cell_type": "code",
      "metadata": {
        "id": "92EStR9KSu8N",
        "colab": {
          "base_uri": "https://localhost:8080/"
        },
        "outputId": "df370102-0d0b-4ce7-de30-07798ec93a70"
      },
      "source": [
        ""
      ],
      "execution_count": null,
      "outputs": [
        {
          "output_type": "stream",
          "text": [
            "Go to this URL in a browser: https://accounts.google.com/o/oauth2/auth?client_id=947318989803-6bn6qk8qdgf4n4g3pfee6491hc0brc4i.apps.googleusercontent.com&redirect_uri=urn%3aietf%3awg%3aoauth%3a2.0%3aoob&scope=email%20https%3a%2f%2fwww.googleapis.com%2fauth%2fdocs.test%20https%3a%2f%2fwww.googleapis.com%2fauth%2fdrive%20https%3a%2f%2fwww.googleapis.com%2fauth%2fdrive.photos.readonly%20https%3a%2f%2fwww.googleapis.com%2fauth%2fpeopleapi.readonly%20https%3a%2f%2fwww.googleapis.com%2fauth%2fdrive.activity.readonly%20https%3a%2f%2fwww.googleapis.com%2fauth%2fexperimentsandconfigs%20https%3a%2f%2fwww.googleapis.com%2fauth%2fphotos.native&response_type=code\n",
            "\n",
            "Enter your authorization code:\n",
            "4/1AY0e-g5iKXyueDC8XORDL7BWbDDka6ISbA2nr1JyKqCcOSzzoUV98ILAEfk\n",
            "Mounted at /content/drive\n"
          ],
          "name": "stdout"
        }
      ]
    },
    {
      "cell_type": "code",
      "metadata": {
        "id": "B7GImG_lSu-u"
      },
      "source": [
        "def average_of_file(filename):\n",
        "  file_handler = open(filename,\"r\")\n",
        "  avg_numbers = 0\n",
        "  num_integers = 0\n",
        "  for line in file_handler:\n",
        "    try:\n",
        "      avg_numbers += int(line)\n",
        "      num_intergers += 1\n",
        "   except ValueError:\n",
        "        continue\n",
        "        file_handler.close()\n",
        "        avg_numbers = avg_numbers/ num_integers\n",
        "        return avg_numbers\n",
        "\n",
        "def main():\n",
        "  name = input(\"write the name of the file:\")\n",
        "  sum_numbers = sum_of_file(name)\n",
        "  print(\"sum of numbers in the file is : % d\" % sum_numbers)\n",
        "\n",
        "if___name___ == \"___main___\":\n",
        "  (main)   "
      ],
      "execution_count": null,
      "outputs": []
    },
    {
      "cell_type": "markdown",
      "metadata": {
        "id": "gW0mWcdDVgK4"
      },
      "source": [
        "**9. Average of Numbers** <br>\n",
        "Assume that a file containing a series of integers is named numbers.txt and exists on the computer’s disk. Write a program that calculates the average of all the numbers stored in\n",
        "the file"
      ]
    },
    {
      "cell_type": "code",
      "metadata": {
        "id": "3-DZx-vnSvCe"
      },
      "source": [
        "def average_of_file(filename):\n",
        "  file_handler = open(filename,\"r\")\n",
        "  avg_numbers = 0\n",
        "  num_integers = 0\n",
        "  for line in file_handler:\n",
        "    try:\n",
        "      avg_numbers += int(line)\n",
        "      num_intergers += 1\n",
        "   except ValueError:\n",
        "        continue\n",
        "        file_handler.close()\n",
        "        avg_numbers = avg_numbers/ num_integers\n",
        "        return avg_numbers\n",
        "\n",
        "def main():\n",
        "  name = input(\"write the name of the file:\")\n",
        "  sum_numbers = sum_of_file(name)\n",
        "  print(\"sum of numbers in the file is : % d\" % sum_numbers)\n",
        "\n",
        "if___name___ == \"___main___\":\n",
        "  (main)          "
      ],
      "execution_count": null,
      "outputs": []
    },
    {
      "cell_type": "markdown",
      "metadata": {
        "id": "vjchCYETVwPx"
      },
      "source": [
        "**10. Random Number File Writer**<br>\n",
        "Write a program that writes a series of random numbers to a file. Each random number should be in the range of 1 \n",
        "through 500. The application should let the user specify how\n",
        "many random numbers the file will hold.\n"
      ]
    },
    {
      "cell_type": "code",
      "metadata": {
        "id": "DCyba_BZVxLF",
        "colab": {
          "base_uri": "https://localhost:8080/"
        },
        "outputId": "c84f6456-519e-4b53-e65b-1d851fb00765"
      },
      "source": [
        "afile = open(\"Random.txt\", \"w\" )\n",
        "\n",
        "for i in range(int(input('How many random numbers?: '))):\n",
        "    line = str(random.randint(1, 500))\n",
        "    afile.write(line)\n",
        "    print(line)\n",
        "\n",
        "afile.close()"
      ],
      "execution_count": null,
      "outputs": [
        {
          "output_type": "stream",
          "text": [
            "How many random numbers?: 22\n",
            "198\n",
            "110\n",
            "449\n",
            "27\n",
            "177\n",
            "101\n",
            "315\n",
            "3\n",
            "197\n",
            "297\n",
            "119\n",
            "396\n",
            "244\n",
            "168\n",
            "159\n",
            "123\n",
            "230\n",
            "50\n",
            "198\n",
            "380\n",
            "280\n",
            "403\n"
          ],
          "name": "stdout"
        }
      ]
    },
    {
      "cell_type": "code",
      "metadata": {
        "id": "uZ7CQJM0VxN5"
      },
      "source": [
        ""
      ],
      "execution_count": null,
      "outputs": []
    },
    {
      "cell_type": "markdown",
      "metadata": {
        "id": "p75ZKqbXWMdY"
      },
      "source": [
        "**11.  Exception Handing** <br>\n",
        "Modify the program that you wrote for Exercise 9 so it handles the following exceptions: <br>\n",
        "* It should handle any IOError exceptions that are raised when the file is opened and data\n",
        "is read from it. <br>\n",
        "* It should handle any ValueError exceptions that are raised when the items that are read from the file are converted to a number."
      ]
    },
    {
      "cell_type": "code",
      "metadata": {
        "id": "22SOHQbrVxRE",
        "colab": {
          "base_uri": "https://localhost:8080/"
        },
        "outputId": "9d4f553d-9bbe-44f8-b81b-6a87154c5d0e"
      },
      "source": [
        "def main():\n",
        "  try:\n",
        "    numbrersfile = open(\"numbers.txt\",\"r\")\n",
        "    total = 0\n",
        "    numbersoflines = 0\n",
        "    line = numbrersfile.readline()\n",
        "\n",
        "    while line !=\"\":\n",
        "      numbersoflines +=1\n",
        "      total += int(line)\n",
        "      line = numbersoflines.readline()\n",
        "\n",
        "    overage = total / numbersoflines\n",
        "  except IOError as error:\n",
        "      print(\"An IoError occured:\", error)\n",
        "  except ValueError as error:\n",
        "      print(\"An ValueError occured:\", error)\n",
        "  else:\n",
        "      print(\"the average is:\", overage)\n",
        "  finally:\n",
        "      print(\"end a program\")\n",
        "main()        \n",
        "\n"
      ],
      "execution_count": null,
      "outputs": [
        {
          "output_type": "stream",
          "text": [
            "An IoError occured: [Errno 2] No such file or directory: 'numbers.txt'\n",
            "end a program\n"
          ],
          "name": "stdout"
        }
      ]
    },
    {
      "cell_type": "code",
      "metadata": {
        "id": "3p0MENR_WrBV"
      },
      "source": [
        ""
      ],
      "execution_count": null,
      "outputs": []
    }
  ]
}